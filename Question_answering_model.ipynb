{
  "nbformat": 4,
  "nbformat_minor": 0,
  "metadata": {
    "colab": {
      "provenance": [],
      "include_colab_link": true
    },
    "kernelspec": {
      "name": "python3",
      "display_name": "Python 3"
    },
    "language_info": {
      "name": "python"
    }
  },
  "cells": [
    {
      "cell_type": "markdown",
      "metadata": {
        "id": "view-in-github",
        "colab_type": "text"
      },
      "source": [
        "<a href=\"https://colab.research.google.com/github/Ganesh1Bachol/Polynomial-AI/blob/main/Question_answering_model.ipynb\" target=\"_parent\"><img src=\"https://colab.research.google.com/assets/colab-badge.svg\" alt=\"Open In Colab\"/></a>"
      ]
    },
    {
      "cell_type": "code",
      "source": [
        "from transformers import BertForQuestionAnswering, AutoTokenizer\n",
        "from nltk.tokenize import word_tokenize\n",
        "from nltk.corpus import stopwords\n",
        "from nltk.stem import PorterStemmer\n",
        "import string\n",
        "import torch\n",
        "\n",
        "# Downloading NLTK resources\n",
        "import nltk\n",
        "nltk.download('punkt')\n",
        "nltk.download('stopwords')\n",
        "\n",
        "def preprocess_text(text):\n",
        "    # Tokenizing text into words\n",
        "    tokens = word_tokenize(text)\n",
        "\n",
        "    # Removing punctuation and converting to lowercase\n",
        "    tokens = [word.lower() for word in tokens if word.isalpha()]\n",
        "\n",
        "    # Removing stopwords\n",
        "    stop_words = set(stopwords.words('english'))\n",
        "    tokens = [word for word in tokens if word not in stop_words]\n",
        "\n",
        "    # Applying stemming\n",
        "    stemmer = PorterStemmer()\n",
        "    tokens = [stemmer.stem(word) for word in tokens]\n",
        "\n",
        "    # Joining the tokens back into string\n",
        "    preprocessed_text = ' '.join(tokens)\n",
        "\n",
        "    return preprocessed_text\n",
        "\n",
        "# Reading the context from a .txt file\n",
        "document_path = '/content/Krishna.txt'\n",
        "with open(document_path, 'r', encoding='utf-8') as file:\n",
        "    context = file.read()\n",
        "\n",
        "# Preprocessing the context\n",
        "preprocessed_context = preprocess_text(context)\n",
        "\n",
        "# Defining questions\n",
        "questions = [\n",
        "    \"Krishna is worshiped as an incarnation of which hindu god?\",\n",
        "    \"Krishna and his brother Balarama returned to Mathura to slay whom?\"\n",
        "]\n",
        "\n",
        "# Loading the pre-trained BERT model and tokenizer\n",
        "model = BertForQuestionAnswering.from_pretrained('deepset/bert-base-cased-squad2')\n",
        "tokenizer = AutoTokenizer.from_pretrained('deepset/bert-base-cased-squad2')\n",
        "\n",
        "# Processing each question\n",
        "for question in questions:\n",
        "    # Tokenizing input\n",
        "    question = preprocess_text(question)  # Preprocess the question as well\n",
        "    inputs = tokenizer(question, preprocessed_context, return_tensors='pt', truncation=True, padding=True)\n",
        "\n",
        "    # Forward pass through the model\n",
        "    outputs = model(**inputs)\n",
        "\n",
        "    # Fetching start and end logits from the model output\n",
        "    start_logits = outputs.start_logits\n",
        "    end_logits = outputs.end_logits\n",
        "\n",
        "    # Finding the tokens with the highest start and end logits\n",
        "    start_index = torch.argmax(start_logits)\n",
        "    end_index = torch.argmax(end_logits)\n",
        "\n",
        "    # Converting token indices to actual text\n",
        "    answer = tokenizer.convert_tokens_to_string(tokenizer.convert_ids_to_tokens(inputs['input_ids'][0][start_index:end_index+1]))\n",
        "\n",
        "    print(f\"Question: {question}\")\n",
        "    print(f\"Answer: {answer}\")\n"
      ],
      "metadata": {
        "colab": {
          "base_uri": "https://localhost:8080/"
        },
        "id": "Qxo6_aLa_tzM",
        "outputId": "e4505ed5-18de-45ca-c64f-101db9484944"
      },
      "execution_count": 2,
      "outputs": [
        {
          "output_type": "stream",
          "name": "stderr",
          "text": [
            "[nltk_data] Downloading package punkt to /root/nltk_data...\n",
            "[nltk_data]   Package punkt is already up-to-date!\n",
            "[nltk_data] Downloading package stopwords to /root/nltk_data...\n",
            "[nltk_data]   Package stopwords is already up-to-date!\n",
            "Some weights of the model checkpoint at deepset/bert-base-cased-squad2 were not used when initializing BertForQuestionAnswering: ['bert.pooler.dense.bias', 'bert.pooler.dense.weight']\n",
            "- This IS expected if you are initializing BertForQuestionAnswering from the checkpoint of a model trained on another task or with another architecture (e.g. initializing a BertForSequenceClassification model from a BertForPreTraining model).\n",
            "- This IS NOT expected if you are initializing BertForQuestionAnswering from the checkpoint of a model that you expect to be exactly identical (initializing a BertForSequenceClassification model from a BertForSequenceClassification model).\n"
          ]
        },
        {
          "output_type": "stream",
          "name": "stdout",
          "text": [
            "Question: krishna worship incarn hindu god\n",
            "Answer: vishnu\n",
            "Question: krishna brother balarama return mathura slay\n",
            "Answer: [CLS]\n"
          ]
        }
      ]
    }
  ]
}